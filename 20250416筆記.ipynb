{
  "nbformat": 4,
  "nbformat_minor": 0,
  "metadata": {
    "colab": {
      "private_outputs": true,
      "provenance": [],
      "toc_visible": true,
      "authorship_tag": "ABX9TyMWXS66I3Q45VAdnWpWN4zP",
      "include_colab_link": true
    },
    "kernelspec": {
      "name": "python3",
      "display_name": "Python 3"
    },
    "language_info": {
      "name": "python"
    }
  },
  "cells": [
    {
      "cell_type": "markdown",
      "metadata": {
        "id": "view-in-github",
        "colab_type": "text"
      },
      "source": [
        "<a href=\"https://colab.research.google.com/github/tinywu33/20250416/blob/main/20250416%E7%AD%86%E8%A8%98.ipynb\" target=\"_parent\"><img src=\"https://colab.research.google.com/assets/colab-badge.svg\" alt=\"Open In Colab\"/></a>"
      ]
    },
    {
      "cell_type": "markdown",
      "source": [
        "#20250416筆記"
      ],
      "metadata": {
        "id": "vtpCmCuL7U3q"
      }
    },
    {
      "cell_type": "markdown",
      "source": [
        "##字串(str)格式化"
      ],
      "metadata": {
        "id": "F8SVMWdQ7ajP"
      }
    },
    {
      "cell_type": "code",
      "source": [
        "x=1\n",
        "y=3.14159\n",
        "z=True\n",
        "w=\"dog\"\n",
        "print(f\"x={x}, y={y}, z={z}, w={w}\") #f-string"
      ],
      "metadata": {
        "id": "wcMDvJJS7mh_"
      },
      "execution_count": null,
      "outputs": []
    },
    {
      "cell_type": "markdown",
      "source": [
        "###python2的方式"
      ],
      "metadata": {
        "id": "9X9PG5jo8g4R"
      }
    },
    {
      "cell_type": "code",
      "source": [
        "print(\"x=%s, y=%s, z=%s, w=%s\" % (x, y, z, w)) #將值轉成字串放入%位置"
      ],
      "metadata": {
        "id": "PVKS_iep9DpQ"
      },
      "execution_count": null,
      "outputs": []
    },
    {
      "cell_type": "markdown",
      "source": [
        "###python3的方式"
      ],
      "metadata": {
        "id": "kgECTrXz8quy"
      }
    },
    {
      "cell_type": "code",
      "source": [
        "print(\"x={}, y={}, z={}, w={}\".format(x, y, z, w)) #將值放入{}位置\n",
        "print(\"x={0}, y={1}, z={2}, w={3}\".format(x, y, z, w))"
      ],
      "metadata": {
        "id": "_TnKfOPd-TJh"
      },
      "execution_count": null,
      "outputs": []
    },
    {
      "cell_type": "markdown",
      "source": [
        "###f-string"
      ],
      "metadata": {
        "id": "3A9veHq884FY"
      }
    },
    {
      "cell_type": "code",
      "source": [
        "print(f\"x={x}, y={y}, z={z}, w={w}\") #f-string\n",
        "print(\"x={x}, y={y}, z={z}, w={w}\")"
      ],
      "metadata": {
        "id": "vy_xBmN88qIB"
      },
      "execution_count": null,
      "outputs": []
    },
    {
      "cell_type": "code",
      "execution_count": null,
      "metadata": {
        "id": "99c5uqto7Q0M"
      },
      "outputs": [],
      "source": [
        "#畫對稱金字塔\n",
        "for i in range(1, 10, 2):\n",
        "    print((9-i)//2 * \" \" + i * \"*\")"
      ]
    },
    {
      "cell_type": "markdown",
      "source": [
        "###f-string 應用練習"
      ],
      "metadata": {
        "id": "UA29Yit4_6So"
      }
    },
    {
      "cell_type": "code",
      "source": [
        "import requests\n",
        "def lookup(word):\n",
        " try:\n",
        "  data=requests.get(f'https://www.moedict.tw/uni/{word}').json() #搜尋萌典api 向下滑找uni網址\n",
        "  return data['heteronyms'][0]['definitions'][0]['def']\n",
        " except Exception as e:\n",
        "  print(f'發生錯誤，錯誤原因是{e}')\n",
        "  return e"
      ],
      "metadata": {
        "id": "Uor1hDVeAAsT"
      },
      "execution_count": null,
      "outputs": []
    },
    {
      "cell_type": "code",
      "source": [
        "lookup('老師')"
      ],
      "metadata": {
        "id": "dEHtLWV58zff"
      },
      "execution_count": null,
      "outputs": []
    },
    {
      "cell_type": "markdown",
      "source": [
        "##爬蟲簡介\n"
      ],
      "metadata": {
        "id": "vm5N6v4VFhpf"
      }
    },
    {
      "cell_type": "markdown",
      "source": [
        "### 抓取資料requests\n"
      ],
      "metadata": {
        "id": "LNha6urYGVfr"
      }
    },
    {
      "cell_type": "code",
      "source": [
        "import requests"
      ],
      "metadata": {
        "id": "7oZLKXnWG8ol"
      },
      "execution_count": null,
      "outputs": []
    },
    {
      "cell_type": "code",
      "source": [
        "r=requests.get('https://www.vcdemy.com/web/html_only.html')"
      ],
      "metadata": {
        "id": "4UxhqHhrHdzt"
      },
      "execution_count": null,
      "outputs": []
    },
    {
      "cell_type": "code",
      "source": [
        "print(r.text)"
      ],
      "metadata": {
        "id": "5kOMPyc7JGMS"
      },
      "execution_count": null,
      "outputs": []
    },
    {
      "cell_type": "code",
      "source": [
        "r.text"
      ],
      "metadata": {
        "id": "b-GmbjJVPPp0"
      },
      "execution_count": null,
      "outputs": []
    },
    {
      "cell_type": "code",
      "source": [
        "r.text[30:47]"
      ],
      "metadata": {
        "id": "3YzRPHyGv7fG"
      },
      "execution_count": null,
      "outputs": []
    },
    {
      "cell_type": "code",
      "source": [
        "r.request.headers"
      ],
      "metadata": {
        "id": "SpoNcbYOLbTh"
      },
      "execution_count": null,
      "outputs": []
    },
    {
      "cell_type": "markdown",
      "source": [
        "### 剖析資料BeautifulBsoup"
      ],
      "metadata": {
        "id": "sX_gZZWSG3ec"
      }
    },
    {
      "cell_type": "code",
      "source": [
        "import bs4"
      ],
      "metadata": {
        "id": "Ljkf7o3zNnFD"
      },
      "execution_count": null,
      "outputs": []
    },
    {
      "cell_type": "code",
      "source": [
        "from bs4 import BeautifulSoup"
      ],
      "metadata": {
        "id": "G72lBGeoG7wN"
      },
      "execution_count": null,
      "outputs": []
    },
    {
      "cell_type": "code",
      "source": [
        "soup=BeautifulSoup(r.text)"
      ],
      "metadata": {
        "id": "vbY1ForgOGPY"
      },
      "execution_count": null,
      "outputs": []
    },
    {
      "cell_type": "code",
      "source": [
        "soup.title"
      ],
      "metadata": {
        "id": "kQgl0W_IN4ZC"
      },
      "execution_count": null,
      "outputs": []
    },
    {
      "cell_type": "code",
      "source": [
        "soup.title.text"
      ],
      "metadata": {
        "id": "2de7rG8tOTc_"
      },
      "execution_count": null,
      "outputs": []
    },
    {
      "cell_type": "code",
      "source": [
        "soup.title"
      ],
      "metadata": {
        "id": "w76N4TrkyGxp"
      },
      "execution_count": null,
      "outputs": []
    },
    {
      "cell_type": "code",
      "source": [
        "soup.h1"
      ],
      "metadata": {
        "id": "BjQrsxBSx59e"
      },
      "execution_count": null,
      "outputs": []
    },
    {
      "cell_type": "code",
      "source": [
        "soup.img"
      ],
      "metadata": {
        "id": "BaY9zh_EwEKG"
      },
      "execution_count": null,
      "outputs": []
    },
    {
      "cell_type": "code",
      "source": [
        "soup.img.get('src')"
      ],
      "metadata": {
        "id": "A337YYN7yWxX"
      },
      "execution_count": null,
      "outputs": []
    },
    {
      "cell_type": "markdown",
      "source": [
        "###爬蟲應用練習01"
      ],
      "metadata": {
        "id": "cJfUa9TYzg5h"
      }
    },
    {
      "cell_type": "code",
      "source": [
        "import requests"
      ],
      "metadata": {
        "id": "B6AfAH7U4JxP"
      },
      "execution_count": null,
      "outputs": []
    },
    {
      "cell_type": "code",
      "source": [
        "r1=requests.get('https://www.vcdemy.com/web/')"
      ],
      "metadata": {
        "id": "TKLPLr4Wzmri"
      },
      "execution_count": null,
      "outputs": []
    },
    {
      "cell_type": "code",
      "source": [
        "r1"
      ],
      "metadata": {
        "id": "MQ0E5psESK_k"
      },
      "execution_count": null,
      "outputs": []
    },
    {
      "cell_type": "code",
      "source": [
        "r1.text"
      ],
      "metadata": {
        "id": "2bMIxersN8Y5"
      },
      "execution_count": null,
      "outputs": []
    },
    {
      "cell_type": "code",
      "source": [
        "print(r1.text)"
      ],
      "metadata": {
        "id": "NV7CQqlBNp4p"
      },
      "execution_count": null,
      "outputs": []
    },
    {
      "cell_type": "code",
      "source": [
        "soup1=BeautifulSoup(r1.text)"
      ],
      "metadata": {
        "id": "lwpI2f4D4dxg"
      },
      "execution_count": null,
      "outputs": []
    },
    {
      "cell_type": "code",
      "source": [
        "soup1"
      ],
      "metadata": {
        "collapsed": true,
        "id": "BYscO31OSaQ5"
      },
      "execution_count": null,
      "outputs": []
    },
    {
      "cell_type": "code",
      "source": [
        "print(soup1)"
      ],
      "metadata": {
        "collapsed": true,
        "id": "rnQ_xqX4Sr-L"
      },
      "execution_count": null,
      "outputs": []
    },
    {
      "cell_type": "code",
      "source": [
        "soup1.select('a')"
      ],
      "metadata": {
        "collapsed": true,
        "id": "hsdnyz8Q4-1Y"
      },
      "execution_count": null,
      "outputs": []
    },
    {
      "cell_type": "code",
      "source": [
        "print(soup1.select('a'))"
      ],
      "metadata": {
        "id": "nwKr_ESES2sr"
      },
      "execution_count": null,
      "outputs": []
    },
    {
      "cell_type": "code",
      "source": [
        "result1=soup1.select('a')"
      ],
      "metadata": {
        "id": "5vu7ruGM5Prv"
      },
      "execution_count": null,
      "outputs": []
    },
    {
      "cell_type": "code",
      "source": [
        "result1"
      ],
      "metadata": {
        "id": "w1t3TkPHTHMz"
      },
      "execution_count": null,
      "outputs": []
    },
    {
      "cell_type": "code",
      "source": [
        "print(result1)"
      ],
      "metadata": {
        "id": "BEbbi9NmTjHW"
      },
      "execution_count": null,
      "outputs": []
    },
    {
      "cell_type": "code",
      "source": [
        "soup1.select('a')[0]"
      ],
      "metadata": {
        "id": "zLmDrrmpKRHl"
      },
      "execution_count": null,
      "outputs": []
    },
    {
      "cell_type": "code",
      "source": [
        "soup1.select('a')[0].text"
      ],
      "metadata": {
        "id": "FP3B9zgOQ0Sp"
      },
      "execution_count": null,
      "outputs": []
    },
    {
      "cell_type": "code",
      "source": [
        "for i in result1:\n",
        "  print(i.text)"
      ],
      "metadata": {
        "id": "HSItvHw26QdH"
      },
      "execution_count": null,
      "outputs": []
    },
    {
      "cell_type": "code",
      "source": [
        "list1=[9,8,7]\n",
        "for i in list1:\n",
        "  print(i)"
      ],
      "metadata": {
        "id": "FgLBorw2UTWR"
      },
      "execution_count": null,
      "outputs": []
    },
    {
      "cell_type": "code",
      "source": [
        "list2=['a','b','v']\n",
        "for i in list2:\n",
        "  print(i)"
      ],
      "metadata": {
        "id": "BkuMOXDCXIU9"
      },
      "execution_count": null,
      "outputs": []
    },
    {
      "cell_type": "code",
      "source": [
        "len1=len(result1)"
      ],
      "metadata": {
        "id": "W-3iqm_hWAdN"
      },
      "execution_count": null,
      "outputs": []
    },
    {
      "cell_type": "code",
      "source": [
        "len1"
      ],
      "metadata": {
        "id": "jR-Eddk2WKei"
      },
      "execution_count": null,
      "outputs": []
    },
    {
      "cell_type": "code",
      "source": [
        "for i in range(12):\n",
        "  print(result1[i])"
      ],
      "metadata": {
        "id": "_4KyG6NXWMkD"
      },
      "execution_count": null,
      "outputs": []
    },
    {
      "cell_type": "code",
      "source": [
        "for i in range(12):\n",
        "  print(result1[i].text)"
      ],
      "metadata": {
        "id": "6qlUoArIWbLs"
      },
      "execution_count": null,
      "outputs": []
    }
  ]
}